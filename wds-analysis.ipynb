{
 "cells": [
  {
   "cell_type": "markdown",
   "id": "partial-scratch",
   "metadata": {},
   "source": [
    "## Step-by-step analysis"
   ]
  },
  {
   "cell_type": "code",
   "execution_count": 1,
   "id": "european-perry",
   "metadata": {
    "pycharm": {
     "is_executing": false
    }
   },
   "outputs": [],
   "source": [
    "import epynet as en\n",
    "wds = en.Network(\"anytown.inp\")\n",
    "# after the creation it automatically loads the network (load_network())"
   ]
  },
  {
   "cell_type": "markdown",
   "id": "contrary-modification",
   "metadata": {},
   "source": [
    "ObjectCollection class treats groups of elements as dictionaries. It returns pd.Series.\n",
    "\n",
    "BaseObject: {\n",
    "    Link: {\n",
    "        Pump,\n",
    "        Pipe,\n",
    "        Valve\n",
    "    };\n",
    "    Node: {\n",
    "        Reservoir,\n",
    "        Junction,\n",
    "        Tank\n",
    "    }\n",
    "}\n",
    "\n",
    "Each componet has attributes, which have to be set before the simulation, and properties, which are modified with the simulation and can be retreived as _results_.\n",
    "\n",
    "Pump attributes: { length, initstatus, speed } <br>\n",
    "Pump properties: { flow, energy}\n",
    "\n"
   ]
  },
  {
   "cell_type": "code",
   "execution_count": 2,
   "id": "level-tension",
   "metadata": {
    "pycharm": {
     "is_executing": false
    }
   },
   "outputs": [
    {
     "data": {
      "text/plain": [
       "78    1.0\n",
       "79    1.0\n",
       "dtype: float64"
      ]
     },
     "execution_count": 2,
     "metadata": {},
     "output_type": "execute_result"
    }
   ],
   "source": [
    "wds.pumps['78'].speed = 1.0\n",
    "wds.pumps.speed"
   ]
  },
  {
   "cell_type": "code",
   "execution_count": 3,
   "id": "powered-strain",
   "metadata": {
    "pycharm": {
     "is_executing": false
    }
   },
   "outputs": [
    {
     "data": {
      "text/plain": [
       "[1.0, 1.0, 1.0, 1.0, 1.0, 1.0]"
      ]
     },
     "execution_count": 3,
     "metadata": {},
     "output_type": "execute_result"
    }
   ],
   "source": [
    "wds.patterns['1'].values"
   ]
  },
  {
   "cell_type": "markdown",
   "id": "swedish-reggae",
   "metadata": {},
   "source": [
    "Let's try to create a random pattern to grasp how step-by-step simulation works."
   ]
  },
  {
   "cell_type": "code",
   "execution_count": 4,
   "id": "spread-arthritis",
   "metadata": {
    "pycharm": {
     "is_executing": false
    }
   },
   "outputs": [],
   "source": [
    "import random\n",
    "import pandas as pd \n",
    "\n",
    "custom_multipliers = []\n",
    "for i in range(0, 24):\n",
    "    custom_multipliers.append(round(random.uniform(0.5,1.5), 2))\n",
    "\n",
    "custom_multipliers = pd.Series(custom_multipliers)"
   ]
  },
  {
   "cell_type": "code",
   "execution_count": 5,
   "id": "owned-march",
   "metadata": {
    "pycharm": {
     "is_executing": false
    }
   },
   "outputs": [
    {
     "data": {
      "image/png": "[encoded data removed]",
      "text/plain": [
       "<Figure size 720x576 with 1 Axes>"
      ]
     },
     "metadata": {
      "needs_background": "light"
     },
     "output_type": "display_data"
    }
   ],
   "source": [
    "import matplotlib.pyplot as plt\n",
    "\n",
    "#day_night_cycle = ['#e1f8ff', '#c9ebff', '#abb5ff', '#7475b6', '#5148b2']\n",
    "plt.figure(figsize=[10,8])\n",
    "plt.bar(x=range(1,25), height=custom_multipliers, width=0.9) \n",
    "plt.xlim(0, 25)\n",
    "plt.grid(axis='y', alpha=0.75)\n",
    "plt.xlabel(\"Timestep\", fontsize=15)\n",
    "plt.ylabel(\"Multiplier\", fontsize=15)\n",
    "plt.title(\"Random Demand Pattern (24h)\", fontsize=20)\n",
    "plt.show()"
   ]
  },
  {
   "cell_type": "code",
   "execution_count": 12,
   "id": "royal-looking",
   "metadata": {
    "pycharm": {
     "is_executing": false
    }
   },
   "outputs": [
    {
     "ename": "ENtoolkitError",
     "evalue": "Error 215: function call contains duplicate ID label",
     "output_type": "error",
     "traceback": [
      "\u001b[1;31m---------------------------------------------------------------------------\u001b[0m",
      "\u001b[1;31mENtoolkitError\u001b[0m                            Traceback (most recent call last)",
      "\u001b[1;32m<ipython-input-12-9b2d55cda520>\u001b[0m in \u001b[0;36m<module>\u001b[1;34m\u001b[0m\n\u001b[1;32m----> 1\u001b[1;33m \u001b[0mwds\u001b[0m\u001b[1;33m.\u001b[0m\u001b[0madd_pattern\u001b[0m\u001b[1;33m(\u001b[0m\u001b[1;34m'2'\u001b[0m\u001b[1;33m,\u001b[0m \u001b[0mcustom_multipliers\u001b[0m\u001b[1;33m)\u001b[0m\u001b[1;33m\u001b[0m\u001b[1;33m\u001b[0m\u001b[0m\n\u001b[0m",
      "\u001b[1;32m~\\anaconda3\\lib\\site-packages\\epynet\\network.py\u001b[0m in \u001b[0;36madd_pattern\u001b[1;34m(self, uid, values)\u001b[0m\n\u001b[0;32m    276\u001b[0m \u001b[1;33m\u001b[0m\u001b[0m\n\u001b[0;32m    277\u001b[0m     \u001b[1;32mdef\u001b[0m \u001b[0madd_pattern\u001b[0m\u001b[1;33m(\u001b[0m\u001b[0mself\u001b[0m\u001b[1;33m,\u001b[0m \u001b[0muid\u001b[0m\u001b[1;33m,\u001b[0m \u001b[0mvalues\u001b[0m\u001b[1;33m)\u001b[0m\u001b[1;33m:\u001b[0m\u001b[1;33m\u001b[0m\u001b[1;33m\u001b[0m\u001b[0m\n\u001b[1;32m--> 278\u001b[1;33m         \u001b[0mself\u001b[0m\u001b[1;33m.\u001b[0m\u001b[0mep\u001b[0m\u001b[1;33m.\u001b[0m\u001b[0mENaddpattern\u001b[0m\u001b[1;33m(\u001b[0m\u001b[0muid\u001b[0m\u001b[1;33m)\u001b[0m\u001b[1;33m\u001b[0m\u001b[1;33m\u001b[0m\u001b[0m\n\u001b[0m\u001b[0;32m    279\u001b[0m         \u001b[0mpattern\u001b[0m \u001b[1;33m=\u001b[0m \u001b[0mPattern\u001b[0m\u001b[1;33m(\u001b[0m\u001b[0muid\u001b[0m\u001b[1;33m,\u001b[0m \u001b[0mself\u001b[0m\u001b[1;33m)\u001b[0m\u001b[1;33m\u001b[0m\u001b[1;33m\u001b[0m\u001b[0m\n\u001b[0;32m    280\u001b[0m         \u001b[0mpattern\u001b[0m\u001b[1;33m.\u001b[0m\u001b[0mvalues\u001b[0m \u001b[1;33m=\u001b[0m \u001b[0mvalues\u001b[0m\u001b[1;33m\u001b[0m\u001b[1;33m\u001b[0m\u001b[0m\n",
      "\u001b[1;32m~\\anaconda3\\lib\\site-packages\\epynet\\epanet2.py\u001b[0m in \u001b[0;36mENaddpattern\u001b[1;34m(self, patternid)\u001b[0m\n\u001b[0;32m    548\u001b[0m           id: ID label of pattern\"\"\"\n\u001b[0;32m    549\u001b[0m         \u001b[0mierr\u001b[0m\u001b[1;33m=\u001b[0m \u001b[0mself\u001b[0m\u001b[1;33m.\u001b[0m\u001b[0m_lib\u001b[0m\u001b[1;33m.\u001b[0m\u001b[0mEN_addpattern\u001b[0m\u001b[1;33m(\u001b[0m\u001b[0mself\u001b[0m\u001b[1;33m.\u001b[0m\u001b[0mph\u001b[0m\u001b[1;33m,\u001b[0m \u001b[0mctypes\u001b[0m\u001b[1;33m.\u001b[0m\u001b[0mc_char_p\u001b[0m\u001b[1;33m(\u001b[0m\u001b[0mpatternid\u001b[0m\u001b[1;33m.\u001b[0m\u001b[0mencode\u001b[0m\u001b[1;33m(\u001b[0m\u001b[0mself\u001b[0m\u001b[1;33m.\u001b[0m\u001b[0mcharset\u001b[0m\u001b[1;33m)\u001b[0m\u001b[1;33m)\u001b[0m\u001b[1;33m)\u001b[0m\u001b[1;33m\u001b[0m\u001b[1;33m\u001b[0m\u001b[0m\n\u001b[1;32m--> 550\u001b[1;33m         \u001b[1;32mif\u001b[0m \u001b[0mierr\u001b[0m\u001b[1;33m!=\u001b[0m\u001b[1;36m0\u001b[0m\u001b[1;33m:\u001b[0m \u001b[1;32mraise\u001b[0m \u001b[0mENtoolkitError\u001b[0m\u001b[1;33m(\u001b[0m\u001b[0mself\u001b[0m\u001b[1;33m,\u001b[0m \u001b[0mierr\u001b[0m\u001b[1;33m)\u001b[0m\u001b[1;33m\u001b[0m\u001b[1;33m\u001b[0m\u001b[0m\n\u001b[0m\u001b[0;32m    551\u001b[0m \u001b[1;33m\u001b[0m\u001b[0m\n\u001b[0;32m    552\u001b[0m \u001b[1;33m\u001b[0m\u001b[0m\n",
      "\u001b[1;31mENtoolkitError\u001b[0m: Error 215: function call contains duplicate ID label"
     ]
    }
   ],
   "source": [
    "wds.add_pattern('2', custom_multipliers)"
   ]
  },
  {
   "cell_type": "code",
   "execution_count": 13,
   "id": "attempted-advantage",
   "metadata": {
    "pycharm": {
     "is_executing": false
    },
    "scrolled": true
   },
   "outputs": [
    {
     "data": {
      "text/plain": [
       "{'1': <epynet.pattern.Pattern at 0x2994fa19088>,\n",
       " '4': <epynet.pattern.Pattern at 0x2994fa2d248>,\n",
       " '2': <epynet.pattern.Pattern at 0x2994fa7a148>}"
      ]
     },
     "execution_count": 13,
     "metadata": {},
     "output_type": "execute_result"
    }
   ],
   "source": [
    "wds.patterns"
   ]
  },
  {
   "cell_type": "code",
   "execution_count": 14,
   "id": "comparable-romance",
   "metadata": {
    "pycharm": {
     "is_executing": false
    },
    "scrolled": true
   },
   "outputs": [
    {
     "name": "stdout",
     "output_type": "stream",
     "text": [
      "1: 2\n",
      "2: 2\n",
      "3: 2\n",
      "4: 2\n",
      "5: 2\n",
      "6: 2\n",
      "7: 2\n",
      "8: 2\n",
      "9: 2\n",
      "10: 2\n",
      "11: 2\n",
      "12: 2\n",
      "13: 2\n",
      "14: 2\n",
      "15: 2\n",
      "16: 2\n",
      "17: 2\n",
      "18: 2\n",
      "19: 2\n",
      "20: 2\n",
      "21: 2\n",
      "22: 2\n"
     ]
    }
   ],
   "source": [
    "for junc in wds.junctions:\n",
    "    junc.pattern = 2\n",
    "for junc in wds.junctions:\n",
    "    print(junc.uid + ': ' + str(junc.pattern.index))"
   ]
  },
  {
   "cell_type": "markdown",
   "id": "existing-philippines",
   "metadata": {},
   "source": [
    "Now we need to set the time parameters, which are:\n",
    "1. EN_DURATION: Total simulation duration.    \n",
    "2. EN_HYDSTEP: Hydraulic time step. \n",
    "3. EN_QUALSTEP: Water quality time step. \n",
    "4. EN_PATTERNSTEP: Time pattern period. \n",
    "5. EN_PATTERNSTART: Time when time patterns begin. \n",
    "6. EN_REPORTSTEP: Reporting time step. \n",
    "7. EN_REPORTSTART: Time when reporting starts. \n",
    "8. EN_RULESTEP: Rule-based control evaluation time step. \n",
    "9. EN_STATISTIC: Reporting statistic code\n",
    "10. EN_PERIODS: Number of reporting time periods (read only) \n",
    "\n",
    "Timevalue: value of time parameter in seconds\n"
   ]
  },
  {
   "cell_type": "code",
   "execution_count": 15,
   "id": "exotic-marketing",
   "metadata": {
    "pycharm": {
     "is_executing": false
    },
    "scrolled": true
   },
   "outputs": [
    {
     "name": "stdout",
     "output_type": "stream",
     "text": [
      "('EN_DURATION', 3600)\n",
      "('EN_HYDSTEP', 60)\n",
      "('EN_QUALSTEP', 3600)\n",
      "('EN_PATTERNSTEP', 0)\n",
      "('EN_PATTERNSTART', 3600)\n",
      "('EN_REPORTSTEP', 0)\n",
      "('EN_REPORTSTART', 6)\n",
      "('EN_RULESTEP', 0)\n",
      "('EN_STATISTIC', 0)\n",
      "('EN_PERIODS', 64800)\n"
     ]
    }
   ],
   "source": [
    "import utils\n",
    "\n",
    "utils.time_parameters_summary(wds)"
   ]
  },
  {
   "cell_type": "code",
   "execution_count": 21,
   "id": "organizational-riverside",
   "metadata": {},
   "outputs": [
    {
     "name": "stdout",
     "output_type": "stream",
     "text": [
      "0: 1     86.223584\n",
      "2     61.313746\n",
      "3     60.089327\n",
      "4     58.864908\n",
      "5     48.953661\n",
      "6     48.186415\n",
      "7     48.040899\n",
      "8     47.895383\n",
      "9     34.494524\n",
      "10    33.890095\n",
      "11    34.396374\n",
      "12    58.245221\n",
      "13    61.465906\n",
      "14    54.667822\n",
      "15    57.080444\n",
      "16    35.747431\n",
      "17    33.215184\n",
      "18    57.745103\n",
      "19    57.369476\n",
      "20    86.232836\n",
      "21    54.349186\n",
      "22    33.012032\n",
      "dtype: float64\n",
      "1: 1     86.223584\n",
      "2     61.313746\n",
      "3     60.089327\n",
      "4     58.864908\n",
      "5     48.953661\n",
      "6     48.186415\n",
      "7     48.040899\n",
      "8     47.895383\n",
      "9     34.494524\n",
      "10    33.890095\n",
      "11    34.396374\n",
      "12    58.245221\n",
      "13    61.465906\n",
      "14    54.667822\n",
      "15    57.080444\n",
      "16    35.747431\n",
      "17    33.215184\n",
      "18    57.745103\n",
      "19    57.369476\n",
      "20    86.232836\n",
      "21    54.349186\n",
      "22    33.012032\n",
      "dtype: float64\n",
      "2: 1     86.223584\n",
      "2     61.313746\n",
      "3     60.089327\n",
      "4     58.864908\n",
      "5     48.953661\n",
      "6     48.186415\n",
      "7     48.040899\n",
      "8     47.895383\n",
      "9     34.494524\n",
      "10    33.890095\n",
      "11    34.396374\n",
      "12    58.245221\n",
      "13    61.465906\n",
      "14    54.667822\n",
      "15    57.080444\n",
      "16    35.747431\n",
      "17    33.215184\n",
      "18    57.745103\n",
      "19    57.369476\n",
      "20    86.232836\n",
      "21    54.349186\n",
      "22    33.012032\n",
      "dtype: float64\n",
      "3: 1     86.223584\n",
      "2     61.313746\n",
      "3     60.089327\n",
      "4     58.864908\n",
      "5     48.953661\n",
      "6     48.186415\n",
      "7     48.040899\n",
      "8     47.895383\n",
      "9     34.494524\n",
      "10    33.890095\n",
      "11    34.396374\n",
      "12    58.245221\n",
      "13    61.465906\n",
      "14    54.667822\n",
      "15    57.080444\n",
      "16    35.747431\n",
      "17    33.215184\n",
      "18    57.745103\n",
      "19    57.369476\n",
      "20    86.232836\n",
      "21    54.349186\n",
      "22    33.012032\n",
      "dtype: float64\n",
      "4: 1     86.223584\n",
      "2     61.313746\n",
      "3     60.089327\n",
      "4     58.864908\n",
      "5     48.953661\n",
      "6     48.186415\n",
      "7     48.040899\n",
      "8     47.895383\n",
      "9     34.494524\n",
      "10    33.890095\n",
      "11    34.396374\n",
      "12    58.245221\n",
      "13    61.465906\n",
      "14    54.667822\n",
      "15    57.080444\n",
      "16    35.747431\n",
      "17    33.215184\n",
      "18    57.745103\n",
      "19    57.369476\n",
      "20    86.232836\n",
      "21    54.349186\n",
      "22    33.012032\n",
      "dtype: float64\n",
      "5: 1     86.223584\n",
      "2     61.313746\n",
      "3     60.089327\n",
      "4     58.864908\n",
      "5     48.953661\n",
      "6     48.186415\n",
      "7     48.040899\n",
      "8     47.895383\n",
      "9     34.494524\n",
      "10    33.890095\n",
      "11    34.396374\n",
      "12    58.245221\n",
      "13    61.465906\n",
      "14    54.667822\n",
      "15    57.080444\n",
      "16    35.747431\n",
      "17    33.215184\n",
      "18    57.745103\n",
      "19    57.369476\n",
      "20    86.232836\n",
      "21    54.349186\n",
      "22    33.012032\n",
      "dtype: float64\n",
      "6: 1     86.223584\n",
      "2     61.313746\n",
      "3     60.089327\n",
      "4     58.864908\n",
      "5     48.953661\n",
      "6     48.186415\n",
      "7     48.040899\n",
      "8     47.895383\n",
      "9     34.494524\n",
      "10    33.890095\n",
      "11    34.396374\n",
      "12    58.245221\n",
      "13    61.465906\n",
      "14    54.667822\n",
      "15    57.080444\n",
      "16    35.747431\n",
      "17    33.215184\n",
      "18    57.745103\n",
      "19    57.369476\n",
      "20    86.232836\n",
      "21    54.349186\n",
      "22    33.012032\n",
      "dtype: float64\n",
      "7: 1     86.223584\n",
      "2     61.313746\n",
      "3     60.089327\n",
      "4     58.864908\n",
      "5     48.953661\n",
      "6     48.186415\n",
      "7     48.040899\n",
      "8     47.895383\n",
      "9     34.494524\n",
      "10    33.890095\n",
      "11    34.396374\n",
      "12    58.245221\n",
      "13    61.465906\n",
      "14    54.667822\n",
      "15    57.080444\n",
      "16    35.747431\n",
      "17    33.215184\n",
      "18    57.745103\n",
      "19    57.369476\n",
      "20    86.232836\n",
      "21    54.349186\n",
      "22    33.012032\n",
      "dtype: float64\n",
      "8: 1     86.223584\n",
      "2     61.313746\n",
      "3     60.089327\n",
      "4     58.864908\n",
      "5     48.953661\n",
      "6     48.186415\n",
      "7     48.040899\n",
      "8     47.895383\n",
      "9     34.494524\n",
      "10    33.890095\n",
      "11    34.396374\n",
      "12    58.245221\n",
      "13    61.465906\n",
      "14    54.667822\n",
      "15    57.080444\n",
      "16    35.747431\n",
      "17    33.215184\n",
      "18    57.745103\n",
      "19    57.369476\n",
      "20    86.232836\n",
      "21    54.349186\n",
      "22    33.012032\n",
      "dtype: float64\n",
      "9: 1     86.223584\n",
      "2     61.313746\n",
      "3     60.089327\n",
      "4     58.864908\n",
      "5     48.953661\n",
      "6     48.186415\n",
      "7     48.040899\n",
      "8     47.895383\n",
      "9     34.494524\n",
      "10    33.890095\n",
      "11    34.396374\n",
      "12    58.245221\n",
      "13    61.465906\n",
      "14    54.667822\n",
      "15    57.080444\n",
      "16    35.747431\n",
      "17    33.215184\n",
      "18    57.745103\n",
      "19    57.369476\n",
      "20    86.232836\n",
      "21    54.349186\n",
      "22    33.012032\n",
      "dtype: float64\n",
      "10: 1     86.223584\n",
      "2     61.313746\n",
      "3     60.089327\n",
      "4     58.864908\n",
      "5     48.953661\n",
      "6     48.186415\n",
      "7     48.040899\n",
      "8     47.895383\n",
      "9     34.494524\n",
      "10    33.890095\n",
      "11    34.396374\n",
      "12    58.245221\n",
      "13    61.465906\n",
      "14    54.667822\n",
      "15    57.080444\n",
      "16    35.747431\n",
      "17    33.215184\n",
      "18    57.745103\n",
      "19    57.369476\n",
      "20    86.232836\n",
      "21    54.349186\n",
      "22    33.012032\n",
      "dtype: float64\n",
      "11: 1     86.223584\n",
      "2     61.313746\n",
      "3     60.089327\n",
      "4     58.864908\n",
      "5     48.953661\n",
      "6     48.186415\n",
      "7     48.040899\n",
      "8     47.895383\n",
      "9     34.494524\n",
      "10    33.890095\n",
      "11    34.396374\n",
      "12    58.245221\n",
      "13    61.465906\n",
      "14    54.667822\n",
      "15    57.080444\n",
      "16    35.747431\n",
      "17    33.215184\n",
      "18    57.745103\n",
      "19    57.369476\n",
      "20    86.232836\n",
      "21    54.349186\n",
      "22    33.012032\n",
      "dtype: float64\n",
      "12: 1     86.223584\n",
      "2     61.313746\n",
      "3     60.089327\n",
      "4     58.864908\n",
      "5     48.953661\n",
      "6     48.186415\n",
      "7     48.040899\n",
      "8     47.895383\n",
      "9     34.494524\n",
      "10    33.890095\n",
      "11    34.396374\n",
      "12    58.245221\n",
      "13    61.465906\n",
      "14    54.667822\n",
      "15    57.080444\n",
      "16    35.747431\n",
      "17    33.215184\n",
      "18    57.745103\n",
      "19    57.369476\n",
      "20    86.232836\n",
      "21    54.349186\n",
      "22    33.012032\n",
      "dtype: float64\n",
      "13: 1     86.223584\n",
      "2     61.313746\n",
      "3     60.089327\n",
      "4     58.864908\n",
      "5     48.953661\n",
      "6     48.186415\n",
      "7     48.040899\n",
      "8     47.895383\n",
      "9     34.494524\n",
      "10    33.890095\n",
      "11    34.396374\n",
      "12    58.245221\n",
      "13    61.465906\n",
      "14    54.667822\n",
      "15    57.080444\n",
      "16    35.747431\n",
      "17    33.215184\n",
      "18    57.745103\n",
      "19    57.369476\n",
      "20    86.232836\n",
      "21    54.349186\n",
      "22    33.012032\n",
      "dtype: float64\n",
      "14: 1     86.223584\n",
      "2     61.313746\n",
      "3     60.089327\n",
      "4     58.864908\n",
      "5     48.953661\n",
      "6     48.186415\n",
      "7     48.040899\n",
      "8     47.895383\n",
      "9     34.494524\n",
      "10    33.890095\n",
      "11    34.396374\n",
      "12    58.245221\n",
      "13    61.465906\n",
      "14    54.667822\n",
      "15    57.080444\n",
      "16    35.747431\n",
      "17    33.215184\n",
      "18    57.745103\n",
      "19    57.369476\n",
      "20    86.232836\n",
      "21    54.349186\n",
      "22    33.012032\n",
      "dtype: float64\n",
      "15: 1     86.223584\n",
      "2     61.313746\n",
      "3     60.089327\n",
      "4     58.864908\n",
      "5     48.953661\n",
      "6     48.186415\n",
      "7     48.040899\n",
      "8     47.895383\n",
      "9     34.494524\n",
      "10    33.890095\n",
      "11    34.396374\n",
      "12    58.245221\n",
      "13    61.465906\n",
      "14    54.667822\n",
      "15    57.080444\n",
      "16    35.747431\n",
      "17    33.215184\n",
      "18    57.745103\n",
      "19    57.369476\n",
      "20    86.232836\n",
      "21    54.349186\n",
      "22    33.012032\n",
      "dtype: float64\n",
      "16: 1     86.223584\n",
      "2     61.313746\n",
      "3     60.089327\n",
      "4     58.864908\n",
      "5     48.953661\n",
      "6     48.186415\n",
      "7     48.040899\n",
      "8     47.895383\n",
      "9     34.494524\n",
      "10    33.890095\n",
      "11    34.396374\n",
      "12    58.245221\n",
      "13    61.465906\n",
      "14    54.667822\n",
      "15    57.080444\n",
      "16    35.747431\n",
      "17    33.215184\n",
      "18    57.745103\n",
      "19    57.369476\n",
      "20    86.232836\n",
      "21    54.349186\n",
      "22    33.012032\n",
      "dtype: float64\n",
      "17: 1     86.223584\n",
      "2     61.313746\n",
      "3     60.089327\n",
      "4     58.864908\n",
      "5     48.953661\n",
      "6     48.186415\n",
      "7     48.040899\n",
      "8     47.895383\n",
      "9     34.494524\n",
      "10    33.890095\n",
      "11    34.396374\n",
      "12    58.245221\n",
      "13    61.465906\n",
      "14    54.667822\n",
      "15    57.080444\n",
      "16    35.747431\n",
      "17    33.215184\n",
      "18    57.745103\n",
      "19    57.369476\n",
      "20    86.232836\n",
      "21    54.349186\n",
      "22    33.012032\n",
      "dtype: float64\n",
      "18: 1     86.223584\n",
      "2     61.313746\n",
      "3     60.089327\n",
      "4     58.864908\n",
      "5     48.953661\n",
      "6     48.186415\n",
      "7     48.040899\n",
      "8     47.895383\n",
      "9     34.494524\n",
      "10    33.890095\n",
      "11    34.396374\n",
      "12    58.245221\n",
      "13    61.465906\n",
      "14    54.667822\n",
      "15    57.080444\n",
      "16    35.747431\n",
      "17    33.215184\n",
      "18    57.745103\n",
      "19    57.369476\n",
      "20    86.232836\n",
      "21    54.349186\n",
      "22    33.012032\n",
      "dtype: float64\n",
      "19: 1     86.223584\n",
      "2     61.313746\n",
      "3     60.089327\n",
      "4     58.864908\n",
      "5     48.953661\n",
      "6     48.186415\n",
      "7     48.040899\n",
      "8     47.895383\n",
      "9     34.494524\n",
      "10    33.890095\n",
      "11    34.396374\n",
      "12    58.245221\n",
      "13    61.465906\n",
      "14    54.667822\n",
      "15    57.080444\n",
      "16    35.747431\n",
      "17    33.215184\n",
      "18    57.745103\n",
      "19    57.369476\n",
      "20    86.232836\n",
      "21    54.349186\n",
      "22    33.012032\n",
      "dtype: float64\n"
     ]
    }
   ],
   "source": [
    "wds.ep.ENsettimeparam(1, 3600)\n",
    "wds.ep.ENsettimeparam(5, 1)\n",
    "\n",
    "for i in range(0,20):\n",
    "    wds.solve(i)\n",
    "    print(str(i) + \": \" + str(wds.junctions.pressure))"
   ]
  },
  {
   "cell_type": "code",
   "execution_count": 22,
   "id": "normal-guitar",
   "metadata": {
    "pycharm": {
     "is_executing": false
    }
   },
   "outputs": [
    {
     "data": {
      "text/plain": [
       "78    401.976202\n",
       "79    401.976202\n",
       "dtype: float64"
      ]
     },
     "execution_count": 22,
     "metadata": {},
     "output_type": "execute_result"
    }
   ],
   "source": [
    "wds.solve(2)\n",
    "wds.pumps.flow"
   ]
  },
  {
   "cell_type": "code",
   "execution_count": 32,
   "id": "convertible-signature",
   "metadata": {
    "pycharm": {
     "is_executing": false
    }
   },
   "outputs": [
    {
     "name": "stdout",
     "output_type": "stream",
     "text": [
      "('EN_DURATION', 1)\n",
      "('EN_HYDSTEP', 1)\n",
      "('EN_QUALSTEP', 3600)\n",
      "('EN_PATTERNSTEP', 2)\n",
      "('EN_PATTERNSTART', 1)\n",
      "('EN_REPORTSTEP', 0)\n",
      "('EN_REPORTSTART', 6)\n",
      "('EN_RULESTEP', 0)\n",
      "('EN_STATISTIC', 0)\n",
      "('EN_PERIODS', 64800)\n"
     ]
    }
   ],
   "source": [
    "wds.ep.ENsettimeparam(2, 4)\n",
    "utils.time_parameters_summary(wds)"
   ]
  },
  {
   "cell_type": "code",
   "execution_count": 25,
   "id": "external-product",
   "metadata": {
    "pycharm": {
     "is_executing": false
    }
   },
   "outputs": [
    {
     "data": {
      "text/plain": [
       "[0]"
      ]
     },
     "execution_count": 25,
     "metadata": {},
     "output_type": "execute_result"
    }
   ],
   "source": [
    "wds.run()\n",
    "wds.time"
   ]
  },
  {
   "cell_type": "code",
   "execution_count": 13,
   "id": "copyrighted-honolulu",
   "metadata": {
    "pycharm": {
     "is_executing": false
    }
   },
   "outputs": [
    {
     "data": {
      "text/plain": [
       "78    401.976202\n",
       "79    401.976202\n",
       "dtype: float64"
      ]
     },
     "execution_count": 13,
     "metadata": {},
     "output_type": "execute_result"
    }
   ],
   "source": [
    "wds.pumps.flow"
   ]
  },
  {
   "cell_type": "code",
   "execution_count": 33,
   "id": "opening-night",
   "metadata": {
    "pycharm": {
     "is_executing": false
    }
   },
   "outputs": [
    {
     "ename": "SyntaxError",
     "evalue": "invalid syntax (<ipython-input-33-457f91aa6888>, line 1)",
     "output_type": "error",
     "traceback": [
      "\u001b[1;36m  File \u001b[1;32m\"<ipython-input-33-457f91aa6888>\"\u001b[1;36m, line \u001b[1;32m1\u001b[0m\n\u001b[1;33m    def run_step_by_step:\u001b[0m\n\u001b[1;37m                        ^\u001b[0m\n\u001b[1;31mSyntaxError\u001b[0m\u001b[1;31m:\u001b[0m invalid syntax\n"
     ]
    }
   ],
   "source": [
    "def run_step_by_step:\n",
    "    wds.reset()\n",
    "    wds.time = []\n",
    "    \n",
    "    wds.ep.ENopenH()\n",
    "    wds.ep.ENinitH(0)\n",
    "    \n",
    "    simtime = 0\n",
    "    timestep = 1\n",
    "    \n",
    "    while timestep > 0:\n",
    "        wds.ep.ENrunH()\n",
    "        timestep = wds.ep.ENnextH()\n",
    "        wds.time.append(simtime)\n",
    "        wds.load_attributes(simtime)\n",
    "        simtime += timestep\n"
   ]
  },
  {
   "cell_type": "code",
   "execution_count": null,
   "id": "relevant-reader",
   "metadata": {
    "pycharm": {
     "is_executing": false
    }
   },
   "outputs": [],
   "source": [
    "def get_junctions_head(wds : en.Network):\n",
    "    return wds.junctions.head"
   ]
  },
  {
   "cell_type": "code",
   "execution_count": null,
   "id": "accessory-kentucky",
   "metadata": {
    "pycharm": {
     "is_executing": false
    }
   },
   "outputs": [],
   "source": [
    "get_junctions_head(wds)"
   ]
  },
  {
   "cell_type": "code",
   "execution_count": null,
   "id": "registered-arizona",
   "metadata": {
    "pycharm": {
     "is_executing": false
    }
   },
   "outputs": [],
   "source": []
  }
 ],
 "metadata": {
  "kernelspec": {
   "display_name": "Python 3",
   "language": "python",
   "name": "python3"
  },
  "language_info": {
   "codemirror_mode": {
    "name": "ipython",
    "version": 3
   },
   "file_extension": ".py",
   "mimetype": "text/x-python",
   "name": "python",
   "nbconvert_exporter": "python",
   "pygments_lexer": "ipython3",
   "version": "3.7.10"
  }
 },
 "nbformat": 4,
 "nbformat_minor": 5
}
