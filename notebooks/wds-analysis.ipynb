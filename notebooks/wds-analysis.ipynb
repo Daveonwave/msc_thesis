{
 "cells": [
  {
   "cell_type": "markdown",
   "id": "partial-scratch",
   "metadata": {},
   "source": [
    "### Week analysis of ctown with custom patterns"
   ]
  },
  {
   "cell_type": "code",
   "execution_count": 2,
   "id": "naval-chinese",
   "metadata": {
    "pycharm": {
     "is_executing": false
    }
   },
   "outputs": [],
   "source": [
    "from scripts import network, epynetUtils\n",
    "import pandas as pd\n",
    "import csv"
   ]
  },
  {
   "cell_type": "code",
   "execution_count": 3,
   "id": "distinct-jacket",
   "metadata": {},
   "outputs": [],
   "source": [
    "net = network.WaterDistributionNetwork('ctown_pd.inp')\n",
    "demand_patterns_path = 'demand_patterns/three_year_demands_ctown.csv'\n",
    "starting_demand_path = 'demand_patterns/starting_demand_points.csv'\n",
    "tank_levels_path = 'demand_patterns/tank_initial_conditions.csv'\n",
    "simulation_days = 10\n",
    "week_index = 0"
   ]
  },
  {
   "cell_type": "code",
   "execution_count": 5,
   "id": "sharp-series",
   "metadata": {},
   "outputs": [],
   "source": [
    "step = 300\n",
    "duration = simulation_days*24*3600\n",
    "net.set_time_params(duration=duration, hydraulic_step=step) # duration=24h, hydstep=10min\n",
    "actuators_interactive = False"
   ]
  },
  {
   "cell_type": "code",
   "execution_count": null,
   "id": "seven-company",
   "metadata": {},
   "outputs": [],
   "source": []
  }
 ],
 "metadata": {
  "kernelspec": {
   "display_name": "Python 3",
   "language": "python",
   "name": "python3"
  },
  "language_info": {
   "codemirror_mode": {
    "name": "ipython",
    "version": 3
   },
   "file_extension": ".py",
   "mimetype": "text/x-python",
   "name": "python",
   "nbconvert_exporter": "python",
   "pygments_lexer": "ipython3",
   "version": "3.6.8"
  }
 },
 "nbformat": 4,
 "nbformat_minor": 5
}
