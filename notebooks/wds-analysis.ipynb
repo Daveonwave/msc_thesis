{
 "cells": [
  {
   "cell_type": "markdown",
   "id": "partial-scratch",
   "metadata": {},
   "source": [
    "## Step-by-step analysis"
   ]
  },
  {
   "cell_type": "code",
   "execution_count": 27,
   "id": "european-perry",
   "metadata": {
    "pycharm": {
     "is_executing": false
    }
   },
   "outputs": [],
   "source": [
    "import epynet as en\n",
    "wds = en.Network(\"anytown.inp\")\n",
    "# after the creation it automatically loads the network (load_network())"
   ]
  },
  {
   "cell_type": "markdown",
   "id": "contrary-modification",
   "metadata": {},
   "source": [
    "ObjectCollection class treats groups of elements as dictionaries. It returns pd.Series.\n",
    "\n",
    "BaseObject: {\n",
    "    Link: {\n",
    "        Pump,\n",
    "        Pipe,\n",
    "        Valve\n",
    "    };\n",
    "    Node: {\n",
    "        Reservoir,\n",
    "        Junction,\n",
    "        Tank\n",
    "    }\n",
    "}\n",
    "\n",
    "Each componet has attributes, which have to be set before the simulation, and properties, which are modified with the simulation and can be retreived as _results_.\n",
    "\n",
    "Pump attributes: { length, initstatus, speed } <br>\n",
    "Pump properties: { flow, energy}\n",
    "\n"
   ]
  },
  {
   "cell_type": "code",
   "execution_count": 28,
   "id": "level-tension",
   "metadata": {
    "pycharm": {
     "is_executing": false
    }
   },
   "outputs": [
    {
     "data": {
      "text/plain": [
       "78    1.0\n",
       "79    1.0\n",
       "dtype: float64"
      ]
     },
     "execution_count": 28,
     "metadata": {},
     "output_type": "execute_result"
    }
   ],
   "source": [
    "wds.pumps['78'].speed = 1.0\n",
    "wds.pumps.speed"
   ]
  },
  {
   "cell_type": "code",
   "execution_count": 29,
   "id": "powered-strain",
   "metadata": {
    "pycharm": {
     "is_executing": false
    }
   },
   "outputs": [
    {
     "data": {
      "text/plain": [
       "[1.0, 1.0, 1.0, 1.0, 1.0, 1.0]"
      ]
     },
     "execution_count": 29,
     "metadata": {},
     "output_type": "execute_result"
    }
   ],
   "source": [
    "wds.patterns['1'].values"
   ]
  },
  {
   "cell_type": "markdown",
   "id": "swedish-reggae",
   "metadata": {},
   "source": [
    "Let's try to create a random pattern to grasp how step-by-step simulation works."
   ]
  },
  {
   "cell_type": "code",
   "execution_count": 30,
   "id": "spread-arthritis",
   "metadata": {
    "pycharm": {
     "is_executing": false
    }
   },
   "outputs": [],
   "source": [
    "import random\n",
    "import pandas as pd \n",
    "\n",
    "custom_multipliers = []\n",
    "for i in range(0, 24):\n",
    "    custom_multipliers.append(round(random.uniform(0.5,1.5), 2))\n",
    "\n",
    "custom_multipliers = pd.Series(custom_multipliers)"
   ]
  },
  {
   "cell_type": "code",
   "execution_count": 31,
   "id": "owned-march",
   "metadata": {
    "pycharm": {
     "is_executing": false
    }
   },
   "outputs": [
    {
     "data": {
      "image/png": "[encoded data removed]",
      "text/plain": [
       "<Figure size 720x576 with 1 Axes>"
      ]
     },
     "metadata": {
      "needs_background": "light"
     },
     "output_type": "display_data"
    }
   ],
   "source": [
    "import matplotlib.pyplot as plt\n",
    "\n",
    "#day_night_cycle = ['#e1f8ff', '#c9ebff', '#abb5ff', '#7475b6', '#5148b2']\n",
    "plt.figure(figsize=[10,8])\n",
    "plt.bar(x=range(1,25), height=custom_multipliers, width=0.9) \n",
    "plt.xlim(0, 25)\n",
    "plt.grid(axis='y', alpha=0.75)\n",
    "plt.xlabel(\"Timestep\", fontsize=15)\n",
    "plt.ylabel(\"Multiplier\", fontsize=15)\n",
    "plt.title(\"Random Demand Pattern (24h)\", fontsize=20)\n",
    "plt.show()"
   ]
  },
  {
   "cell_type": "code",
   "execution_count": 32,
   "id": "royal-looking",
   "metadata": {
    "pycharm": {
     "is_executing": false
    }
   },
   "outputs": [
    {
     "data": {
      "text/plain": [
       "<epynet.pattern.Pattern at 0x1ded33e7400>"
      ]
     },
     "execution_count": 32,
     "metadata": {},
     "output_type": "execute_result"
    }
   ],
   "source": [
    "wds.add_pattern('2', custom_multipliers)"
   ]
  },
  {
   "cell_type": "code",
   "execution_count": 37,
   "id": "attempted-advantage",
   "metadata": {
    "pycharm": {
     "is_executing": false
    },
    "scrolled": true
   },
   "outputs": [
    {
     "data": {
      "text/plain": [
       "{'1': <epynet.pattern.Pattern at 0x1ded33f94a8>,\n",
       " '4': <epynet.pattern.Pattern at 0x1ded33f9470>,\n",
       " '2': <epynet.pattern.Pattern at 0x1ded33e7400>}"
      ]
     },
     "execution_count": 37,
     "metadata": {},
     "output_type": "execute_result"
    }
   ],
   "source": [
    "wds.patterns"
   ]
  },
  {
   "cell_type": "code",
   "execution_count": 43,
   "id": "comparable-romance",
   "metadata": {
    "pycharm": {
     "is_executing": false
    },
    "scrolled": true
   },
   "outputs": [
    {
     "name": "stdout",
     "output_type": "stream",
     "text": [
      "1: 2\n",
      "2: 2\n",
      "3: 2\n",
      "4: 2\n",
      "5: 2\n",
      "6: 2\n",
      "7: 2\n",
      "8: 2\n",
      "9: 2\n",
      "10: 2\n",
      "11: 2\n",
      "12: 2\n",
      "13: 2\n",
      "14: 2\n",
      "15: 2\n",
      "16: 2\n",
      "17: 2\n",
      "18: 2\n",
      "19: 2\n",
      "20: 2\n",
      "21: 2\n",
      "22: 2\n"
     ]
    }
   ],
   "source": [
    "for junc in wds.junctions:\n",
    "    junc.pattern = 0\n",
    "for junc in wds.junctions:\n",
    "    print(junc.uid + ': ' + str(junc.pattern.index))"
   ]
  },
  {
   "cell_type": "markdown",
   "id": "existing-philippines",
   "metadata": {},
   "source": [
    "Now we need to set the time parameters, which are:\n",
    "1. EN_DURATION: Total simulation duration.    \n",
    "2. EN_HYDSTEP: Hydraulic time step. \n",
    "3. EN_QUALSTEP: Water quality time step. \n",
    "4. EN_PATTERNSTEP: Time pattern period. \n",
    "5. EN_PATTERNSTART: Time when time patterns begin. \n",
    "6. EN_REPORTSTEP: Reporting time step. \n",
    "7. EN_REPORTSTART: Time when reporting starts. \n",
    "8. EN_RULESTEP: Rule-based control evaluation time step. \n",
    "9. EN_STATISTIC: Reporting statistic code\n",
    "10. EN_PERIODS: Number of reporting time periods (read only) \n",
    "\n",
    "Timevalue: value of time parameter in seconds\n"
   ]
  },
  {
   "cell_type": "code",
   "execution_count": 9,
   "id": "exotic-marketing",
   "metadata": {
    "pycharm": {
     "is_executing": false
    },
    "scrolled": true
   },
   "outputs": [
    {
     "name": "stdout",
     "output_type": "stream",
     "text": [
      "('EN_DURATION', 0)\n",
      "('EN_HYDSTEP', 60)\n",
      "('EN_QUALSTEP', 60)\n",
      "('EN_PATTERNSTEP', 3600)\n",
      "('EN_PATTERNSTART', 0)\n",
      "('EN_REPORTSTEP', 3600)\n",
      "('EN_REPORTSTART', 0)\n",
      "('EN_RULESTEP', 6)\n",
      "('EN_STATISTIC', 0)\n",
      "('EN_PERIODS', 0)\n",
      "('EN_STARTTIME', 64800)\n"
     ]
    }
   ],
   "source": [
    "import utils\n",
    "\n",
    "utils.time_parameters_summary(wds)"
   ]
  },
  {
   "cell_type": "code",
   "execution_count": 10,
   "id": "hourly-logistics",
   "metadata": {
    "pycharm": {
     "is_executing": false
    }
   },
   "outputs": [
    {
     "name": "stdout",
     "output_type": "stream",
     "text": [
      "('EN_DURATION', 86400)\n",
      "('EN_HYDSTEP', 60)\n",
      "('EN_QUALSTEP', 60)\n",
      "('EN_PATTERNSTEP', 3600)\n",
      "('EN_PATTERNSTART', 0)\n",
      "('EN_REPORTSTEP', 3600)\n",
      "('EN_REPORTSTART', 0)\n",
      "('EN_RULESTEP', 6)\n",
      "('EN_STATISTIC', 0)\n",
      "('EN_PERIODS', 0)\n",
      "('EN_STARTTIME', 64800)\n"
     ]
    }
   ],
   "source": [
    "wds.ep.ENsettimeparam(0, 86400)\n",
    "utils.time_parameters_summary(wds)"
   ]
  },
  {
   "cell_type": "code",
   "execution_count": 11,
   "id": "hybrid-monaco",
   "metadata": {
    "pycharm": {
     "is_executing": false
    }
   },
   "outputs": [
    {
     "data": {
      "text/plain": [
       "1     86.223584\n",
       "2     61.313746\n",
       "3     60.089327\n",
       "4     58.864908\n",
       "5     48.953661\n",
       "6     48.186415\n",
       "7     48.040899\n",
       "8     47.895383\n",
       "9     34.494524\n",
       "10    33.890095\n",
       "11    34.396374\n",
       "12    58.245221\n",
       "13    61.465906\n",
       "14    54.667822\n",
       "15    57.080444\n",
       "16    35.747431\n",
       "17    33.215184\n",
       "18    57.745103\n",
       "19    57.369476\n",
       "20    86.232836\n",
       "21    54.349186\n",
       "22    33.012032\n",
       "dtype: float64"
      ]
     },
     "execution_count": 11,
     "metadata": {},
     "output_type": "execute_result"
    }
   ],
   "source": [
    "wds.solve()\n",
    "wds.junctions.pressure"
   ]
  },
  {
   "cell_type": "code",
   "execution_count": 12,
   "id": "failing-childhood",
   "metadata": {
    "pycharm": {
     "is_executing": false
    }
   },
   "outputs": [
    {
     "name": "stdout",
     "output_type": "stream",
     "text": [
      "('EN_DURATION', 86400)\n",
      "('EN_HYDSTEP', 60)\n",
      "('EN_QUALSTEP', 60)\n",
      "('EN_PATTERNSTEP', 3600)\n",
      "('EN_PATTERNSTART', 2)\n",
      "('EN_REPORTSTEP', 3600)\n",
      "('EN_REPORTSTART', 0)\n",
      "('EN_RULESTEP', 6)\n",
      "('EN_STATISTIC', 0)\n",
      "('EN_PERIODS', 0)\n",
      "('EN_STARTTIME', 64800)\n"
     ]
    }
   ],
   "source": [
    "wds.solve(2)\n",
    "utils.time_parameters_summary(wds)"
   ]
  },
  {
   "cell_type": "code",
   "execution_count": 13,
   "id": "opening-night",
   "metadata": {
    "pycharm": {
     "is_executing": false
    }
   },
   "outputs": [],
   "source": [
    "def run_step_by_step():\n",
    "    wds.reset()\n",
    "    wds.time = []\n",
    "    \n",
    "    wds.ep.ENopenH()\n",
    "    wds.ep.ENinitH(0)\n",
    "    \n",
    "    simtime = 0\n",
    "    timestep = 1\n",
    "    \n",
    "    while timestep > 0:\n",
    "        wds.ep.ENrunH()\n",
    "        timestep = wds.ep.ENnextH()\n",
    "        wds.time.append(simtime)\n",
    "        wds.load_attributes(simtime)\n",
    "        simtime += timestep\n",
    "    \n",
    "    wds.ep.ENcloseH()"
   ]
  },
  {
   "cell_type": "code",
   "execution_count": 14,
   "id": "passing-relief",
   "metadata": {
    "pycharm": {
     "is_executing": false
    }
   },
   "outputs": [
    {
     "name": "stdout",
     "output_type": "stream",
     "text": [
      "('EN_DURATION', 86400)\n",
      "('EN_HYDSTEP', 60)\n",
      "('EN_QUALSTEP', 60)\n",
      "('EN_PATTERNSTEP', 3600)\n",
      "('EN_PATTERNSTART', 0)\n",
      "('EN_REPORTSTEP', 3600)\n",
      "('EN_REPORTSTART', 0)\n",
      "('EN_RULESTEP', 6)\n",
      "('EN_STATISTIC', 0)\n",
      "('EN_PERIODS', 0)\n",
      "('EN_STARTTIME', 64800)\n"
     ]
    }
   ],
   "source": [
    "wds.ep.ENsettimeparam(4, 0)\n",
    "utils.time_parameters_summary(wds)"
   ]
  },
  {
   "cell_type": "code",
   "execution_count": 15,
   "id": "registered-arizona",
   "metadata": {
    "pycharm": {
     "is_executing": false
    }
   },
   "outputs": [
    {
     "name": "stdout",
     "output_type": "stream",
     "text": [
      "('EN_DURATION', 3600)\n",
      "('EN_HYDSTEP', 60)\n",
      "('EN_QUALSTEP', 60)\n",
      "('EN_PATTERNSTEP', 3600)\n",
      "('EN_PATTERNSTART', 0)\n",
      "('EN_REPORTSTEP', 3600)\n",
      "('EN_REPORTSTART', 0)\n",
      "('EN_RULESTEP', 6)\n",
      "('EN_STATISTIC', 0)\n",
      "('EN_PERIODS', 0)\n",
      "('EN_STARTTIME', 64800)\n"
     ]
    }
   ],
   "source": [
    "wds.ep.ENsettimeparam(0, 3600)\n",
    "utils.time_parameters_summary(wds)\n",
    "run_step_by_step()"
   ]
  },
  {
   "cell_type": "code",
   "execution_count": 16,
   "id": "french-smell",
   "metadata": {
    "pycharm": {
     "is_executing": false
    }
   },
   "outputs": [
    {
     "name": "stderr",
     "output_type": "stream",
     "text": [
      "c:\\users\\david\\appdata\\local\\programs\\python\\python36\\lib\\site-packages\\epynet\\baseobject.py:63: UserWarning: requesting dynamic properties from an unsolved network\n",
      "  warnings.warn(\"requesting dynamic properties from an unsolved network\")\n"
     ]
    },
    {
     "data": {
      "text/plain": [
       "0       86.223584\n",
       "60      86.227882\n",
       "120     86.232177\n",
       "180     86.236472\n",
       "240     86.240764\n",
       "          ...    \n",
       "3360    86.461316\n",
       "3420    86.465503\n",
       "3480    86.469688\n",
       "3540    86.473871\n",
       "3600    86.478051\n",
       "Length: 61, dtype: float64"
      ]
     },
     "execution_count": 16,
     "metadata": {},
     "output_type": "execute_result"
    }
   ],
   "source": [
    "wds.junctions['1'].pressure"
   ]
  },
  {
   "cell_type": "code",
   "execution_count": 17,
   "id": "saved-issue",
   "metadata": {
    "pycharm": {
     "is_executing": false
    }
   },
   "outputs": [
    {
     "data": {
      "text/plain": [
       "61"
      ]
     },
     "execution_count": 17,
     "metadata": {},
     "output_type": "execute_result"
    }
   ],
   "source": [
    "len(wds.pumps['78'].results['flow'])"
   ]
  },
  {
   "cell_type": "code",
   "execution_count": 18,
   "id": "authorized-conducting",
   "metadata": {
    "pycharm": {
     "is_executing": false
    }
   },
   "outputs": [
    {
     "name": "stderr",
     "output_type": "stream",
     "text": [
      "c:\\users\\david\\appdata\\local\\programs\\python\\python36\\lib\\site-packages\\epynet\\epanet2.py:677: UserWarning: WARNING: Pumps cannot deliver enough flow or head.\n",
      "  warnings.warn(self.ENgeterror(ierr))\n"
     ]
    }
   ],
   "source": [
    "wds.ep.ENsettimeparam(0, 86400)\n",
    "run_step_by_step()"
   ]
  },
  {
   "cell_type": "code",
   "execution_count": 19,
   "id": "reported-frame",
   "metadata": {
    "pycharm": {
     "is_executing": false
    }
   },
   "outputs": [
    {
     "data": {
      "text/plain": [
       "1442"
      ]
     },
     "execution_count": 19,
     "metadata": {},
     "output_type": "execute_result"
    }
   ],
   "source": [
    "len(wds.pumps['78'].results['flow'])"
   ]
  },
  {
   "cell_type": "code",
   "execution_count": 20,
   "id": "chronic-drink",
   "metadata": {
    "pycharm": {
     "is_executing": false
    }
   },
   "outputs": [
    {
     "data": {
      "text/plain": [
       "1     113.565002\n",
       "2      45.425999\n",
       "3      45.425999\n",
       "4     136.278000\n",
       "5     136.278000\n",
       "6     136.278000\n",
       "7     136.278000\n",
       "8      90.851997\n",
       "9      90.851997\n",
       "10     90.851997\n",
       "11     90.851997\n",
       "12    113.565002\n",
       "13    113.565002\n",
       "14    113.565002\n",
       "15    113.565002\n",
       "16     90.851997\n",
       "17    227.130005\n",
       "18    113.565002\n",
       "19    227.130005\n",
       "20      0.000000\n",
       "21      0.000000\n",
       "22      0.000000\n",
       "dtype: float64"
      ]
     },
     "execution_count": 20,
     "metadata": {},
     "output_type": "execute_result"
    }
   ],
   "source": [
    "wds.junctions.basedemand"
   ]
  },
  {
   "cell_type": "code",
   "execution_count": 21,
   "id": "intended-section",
   "metadata": {
    "pycharm": {
     "is_executing": false
    }
   },
   "outputs": [],
   "source": [
    "iterables = [wds.junctions.uid, ['head', 'pressure', 'demand']]\n",
    "cols_index = pd.MultiIndex.from_product(iterables, names=[\"id\", \"properties\"])"
   ]
  },
  {
   "cell_type": "code",
   "execution_count": 22,
   "id": "reasonable-cooling",
   "metadata": {
    "pycharm": {
     "is_executing": false
    }
   },
   "outputs": [],
   "source": [
    "import datetime\n",
    "times = [datetime.timedelta(seconds=time) for time in wds.time]"
   ]
  },
  {
   "cell_type": "code",
   "execution_count": 23,
   "id": "confused-shelter",
   "metadata": {
    "pycharm": {
     "is_executing": false
    }
   },
   "outputs": [],
   "source": [
    "df = pd.DataFrame(0, index=times, columns=cols_index)"
   ]
  },
  {
   "cell_type": "code",
   "execution_count": 24,
   "id": "plain-enemy",
   "metadata": {
    "pycharm": {
     "is_executing": false
    }
   },
   "outputs": [
    {
     "data": {
      "text/plain": [
       "1     {'head': [92.31958361237028, 92.32388159908787...\n",
       "2     {'head': [76.55374628627844, 76.61742632638767...\n",
       "3     {'head': [75.32932707869972, 75.39651524157877...\n",
       "4     {'head': [74.10490787112103, 74.17560415676985...\n",
       "5     {'head': [73.33766134277477, 73.41039361845354...\n",
       "6     {'head': [72.57041481442849, 72.64518308013722...\n",
       "7     {'head': [72.42489888879999, 72.50005330024257...\n",
       "8     {'head': [72.27938296317146, 72.35492352034794...\n",
       "9     {'head': [71.07052416966434, 71.14541188620842...\n",
       "10    {'head': [70.46609478943607, 70.54065608567288...\n",
       "11    {'head': [70.97237382646334, 71.04525403567321...\n",
       "12    {'head': [73.48522133916357, 73.55143809380111...\n",
       "13    {'head': [76.70590642725101, 76.76882415172545...\n",
       "14    {'head': [69.9078222757869, 70.00255884501658,...\n",
       "15    {'head': [72.32044393070728, 72.3965419428787,...\n",
       "16    {'head': [72.32343077089752, 72.39969692163199...\n",
       "17    {'head': [69.79118354463927, 69.8666214208589,...\n",
       "18    {'head': [72.98510262276743, 73.05784590114726...\n",
       "19    {'head': [72.60947646055436, 72.68557743658835...\n",
       "20    {'head': [92.32883579139136, 92.33309996627654...\n",
       "21    {'head': [69.5891863591662, 69.68568744269619,...\n",
       "22    {'head': [69.58803152024397, 69.663723477584, ...\n",
       "dtype: object"
      ]
     },
     "execution_count": 24,
     "metadata": {},
     "output_type": "execute_result"
    }
   ],
   "source": [
    "wds.junctions.results"
   ]
  },
  {
   "cell_type": "code",
   "execution_count": 25,
   "id": "induced-dollar",
   "metadata": {
    "pycharm": {
     "is_executing": false
    }
   },
   "outputs": [],
   "source": [
    "for i,j in zip(df.columns.get_level_values(0), df.columns.get_level_values(1)):\n",
    "    df[i,j] = wds.junctions.results[i][j]"
   ]
  },
  {
   "cell_type": "code",
   "execution_count": 26,
   "id": "usual-progress",
   "metadata": {
    "pycharm": {
     "is_executing": false
    }
   },
   "outputs": [
    {
     "data": {
      "text/html": [
       "<div>\n",
       "<style scoped>\n",
       "    .dataframe tbody tr th:only-of-type {\n",
       "        vertical-align: middle;\n",
       "    }\n",
       "\n",
       "    .dataframe tbody tr th {\n",
       "        vertical-align: top;\n",
       "    }\n",
       "\n",
       "    .dataframe thead tr th {\n",
       "        text-align: left;\n",
       "    }\n",
       "</style>\n",
       "<table border=\"1\" class=\"dataframe\">\n",
       "  <thead>\n",
       "    <tr>\n",
       "      <th>id</th>\n",
       "      <th colspan=\"3\" halign=\"left\">1</th>\n",
       "      <th colspan=\"3\" halign=\"left\">2</th>\n",
       "      <th colspan=\"3\" halign=\"left\">3</th>\n",
       "      <th>4</th>\n",
       "      <th>...</th>\n",
       "      <th>19</th>\n",
       "      <th colspan=\"3\" halign=\"left\">20</th>\n",
       "      <th colspan=\"3\" halign=\"left\">21</th>\n",
       "      <th colspan=\"3\" halign=\"left\">22</th>\n",
       "    </tr>\n",
       "    <tr>\n",
       "      <th>properties</th>\n",
       "      <th>head</th>\n",
       "      <th>pressure</th>\n",
       "      <th>demand</th>\n",
       "      <th>head</th>\n",
       "      <th>pressure</th>\n",
       "      <th>demand</th>\n",
       "      <th>head</th>\n",
       "      <th>pressure</th>\n",
       "      <th>demand</th>\n",
       "      <th>head</th>\n",
       "      <th>...</th>\n",
       "      <th>demand</th>\n",
       "      <th>head</th>\n",
       "      <th>pressure</th>\n",
       "      <th>demand</th>\n",
       "      <th>head</th>\n",
       "      <th>pressure</th>\n",
       "      <th>demand</th>\n",
       "      <th>head</th>\n",
       "      <th>pressure</th>\n",
       "      <th>demand</th>\n",
       "    </tr>\n",
       "  </thead>\n",
       "  <tbody>\n",
       "    <tr>\n",
       "      <th>0 days 00:00:00</th>\n",
       "      <td>92.319584</td>\n",
       "      <td>86.223584</td>\n",
       "      <td>0.0</td>\n",
       "      <td>76.553746</td>\n",
       "      <td>61.313746</td>\n",
       "      <td>0.0</td>\n",
       "      <td>75.329327</td>\n",
       "      <td>60.089327</td>\n",
       "      <td>0.0</td>\n",
       "      <td>74.104908</td>\n",
       "      <td>...</td>\n",
       "      <td>0.0</td>\n",
       "      <td>92.328836</td>\n",
       "      <td>86.232836</td>\n",
       "      <td>0.0</td>\n",
       "      <td>69.589186</td>\n",
       "      <td>54.349186</td>\n",
       "      <td>0.0</td>\n",
       "      <td>69.588032</td>\n",
       "      <td>33.012032</td>\n",
       "      <td>0.0</td>\n",
       "    </tr>\n",
       "    <tr>\n",
       "      <th>0 days 00:01:00</th>\n",
       "      <td>92.323882</td>\n",
       "      <td>86.227882</td>\n",
       "      <td>0.0</td>\n",
       "      <td>76.617426</td>\n",
       "      <td>61.377426</td>\n",
       "      <td>0.0</td>\n",
       "      <td>75.396515</td>\n",
       "      <td>60.156515</td>\n",
       "      <td>0.0</td>\n",
       "      <td>74.175604</td>\n",
       "      <td>...</td>\n",
       "      <td>0.0</td>\n",
       "      <td>92.333100</td>\n",
       "      <td>86.237100</td>\n",
       "      <td>0.0</td>\n",
       "      <td>69.685687</td>\n",
       "      <td>54.445687</td>\n",
       "      <td>0.0</td>\n",
       "      <td>69.663723</td>\n",
       "      <td>33.087723</td>\n",
       "      <td>0.0</td>\n",
       "    </tr>\n",
       "    <tr>\n",
       "      <th>0 days 00:02:00</th>\n",
       "      <td>92.328177</td>\n",
       "      <td>86.232177</td>\n",
       "      <td>0.0</td>\n",
       "      <td>76.680997</td>\n",
       "      <td>61.440997</td>\n",
       "      <td>0.0</td>\n",
       "      <td>75.463652</td>\n",
       "      <td>60.223652</td>\n",
       "      <td>0.0</td>\n",
       "      <td>74.246306</td>\n",
       "      <td>...</td>\n",
       "      <td>0.0</td>\n",
       "      <td>92.337362</td>\n",
       "      <td>86.241362</td>\n",
       "      <td>0.0</td>\n",
       "      <td>69.781900</td>\n",
       "      <td>54.541900</td>\n",
       "      <td>0.0</td>\n",
       "      <td>69.739364</td>\n",
       "      <td>33.163364</td>\n",
       "      <td>0.0</td>\n",
       "    </tr>\n",
       "    <tr>\n",
       "      <th>0 days 00:03:00</th>\n",
       "      <td>92.332472</td>\n",
       "      <td>86.236472</td>\n",
       "      <td>0.0</td>\n",
       "      <td>76.744424</td>\n",
       "      <td>61.504424</td>\n",
       "      <td>0.0</td>\n",
       "      <td>75.530643</td>\n",
       "      <td>60.290643</td>\n",
       "      <td>0.0</td>\n",
       "      <td>74.316863</td>\n",
       "      <td>...</td>\n",
       "      <td>0.0</td>\n",
       "      <td>92.341623</td>\n",
       "      <td>86.245623</td>\n",
       "      <td>0.0</td>\n",
       "      <td>69.877825</td>\n",
       "      <td>54.637825</td>\n",
       "      <td>0.0</td>\n",
       "      <td>69.814952</td>\n",
       "      <td>33.238952</td>\n",
       "      <td>0.0</td>\n",
       "    </tr>\n",
       "    <tr>\n",
       "      <th>0 days 00:04:00</th>\n",
       "      <td>92.336764</td>\n",
       "      <td>86.240764</td>\n",
       "      <td>0.0</td>\n",
       "      <td>76.807706</td>\n",
       "      <td>61.567706</td>\n",
       "      <td>0.0</td>\n",
       "      <td>75.597490</td>\n",
       "      <td>60.357490</td>\n",
       "      <td>0.0</td>\n",
       "      <td>74.387274</td>\n",
       "      <td>...</td>\n",
       "      <td>0.0</td>\n",
       "      <td>92.345881</td>\n",
       "      <td>86.249881</td>\n",
       "      <td>0.0</td>\n",
       "      <td>69.973464</td>\n",
       "      <td>54.733464</td>\n",
       "      <td>0.0</td>\n",
       "      <td>69.890487</td>\n",
       "      <td>33.314487</td>\n",
       "      <td>0.0</td>\n",
       "    </tr>\n",
       "    <tr>\n",
       "      <th>...</th>\n",
       "      <td>...</td>\n",
       "      <td>...</td>\n",
       "      <td>...</td>\n",
       "      <td>...</td>\n",
       "      <td>...</td>\n",
       "      <td>...</td>\n",
       "      <td>...</td>\n",
       "      <td>...</td>\n",
       "      <td>...</td>\n",
       "      <td>...</td>\n",
       "      <td>...</td>\n",
       "      <td>...</td>\n",
       "      <td>...</td>\n",
       "      <td>...</td>\n",
       "      <td>...</td>\n",
       "      <td>...</td>\n",
       "      <td>...</td>\n",
       "      <td>...</td>\n",
       "      <td>...</td>\n",
       "      <td>...</td>\n",
       "      <td>...</td>\n",
       "    </tr>\n",
       "    <tr>\n",
       "      <th>0 days 23:56:00</th>\n",
       "      <td>94.488000</td>\n",
       "      <td>88.392000</td>\n",
       "      <td>0.0</td>\n",
       "      <td>94.488000</td>\n",
       "      <td>79.248000</td>\n",
       "      <td>0.0</td>\n",
       "      <td>94.488000</td>\n",
       "      <td>79.248000</td>\n",
       "      <td>0.0</td>\n",
       "      <td>94.488000</td>\n",
       "      <td>...</td>\n",
       "      <td>0.0</td>\n",
       "      <td>94.488000</td>\n",
       "      <td>88.392000</td>\n",
       "      <td>0.0</td>\n",
       "      <td>94.488000</td>\n",
       "      <td>79.248000</td>\n",
       "      <td>0.0</td>\n",
       "      <td>94.488000</td>\n",
       "      <td>57.912000</td>\n",
       "      <td>0.0</td>\n",
       "    </tr>\n",
       "    <tr>\n",
       "      <th>0 days 23:57:00</th>\n",
       "      <td>94.488000</td>\n",
       "      <td>88.392000</td>\n",
       "      <td>0.0</td>\n",
       "      <td>94.488000</td>\n",
       "      <td>79.248000</td>\n",
       "      <td>0.0</td>\n",
       "      <td>94.488000</td>\n",
       "      <td>79.248000</td>\n",
       "      <td>0.0</td>\n",
       "      <td>94.488000</td>\n",
       "      <td>...</td>\n",
       "      <td>0.0</td>\n",
       "      <td>94.488000</td>\n",
       "      <td>88.392000</td>\n",
       "      <td>0.0</td>\n",
       "      <td>94.488000</td>\n",
       "      <td>79.248000</td>\n",
       "      <td>0.0</td>\n",
       "      <td>94.488000</td>\n",
       "      <td>57.912000</td>\n",
       "      <td>0.0</td>\n",
       "    </tr>\n",
       "    <tr>\n",
       "      <th>0 days 23:58:00</th>\n",
       "      <td>94.488000</td>\n",
       "      <td>88.392000</td>\n",
       "      <td>0.0</td>\n",
       "      <td>94.488000</td>\n",
       "      <td>79.248000</td>\n",
       "      <td>0.0</td>\n",
       "      <td>94.488000</td>\n",
       "      <td>79.248000</td>\n",
       "      <td>0.0</td>\n",
       "      <td>94.488000</td>\n",
       "      <td>...</td>\n",
       "      <td>0.0</td>\n",
       "      <td>94.488000</td>\n",
       "      <td>88.392000</td>\n",
       "      <td>0.0</td>\n",
       "      <td>94.488000</td>\n",
       "      <td>79.248000</td>\n",
       "      <td>0.0</td>\n",
       "      <td>94.488000</td>\n",
       "      <td>57.912000</td>\n",
       "      <td>0.0</td>\n",
       "    </tr>\n",
       "    <tr>\n",
       "      <th>0 days 23:59:00</th>\n",
       "      <td>94.488000</td>\n",
       "      <td>88.392000</td>\n",
       "      <td>0.0</td>\n",
       "      <td>94.488000</td>\n",
       "      <td>79.248000</td>\n",
       "      <td>0.0</td>\n",
       "      <td>94.488000</td>\n",
       "      <td>79.248000</td>\n",
       "      <td>0.0</td>\n",
       "      <td>94.488000</td>\n",
       "      <td>...</td>\n",
       "      <td>0.0</td>\n",
       "      <td>94.488000</td>\n",
       "      <td>88.392000</td>\n",
       "      <td>0.0</td>\n",
       "      <td>94.488000</td>\n",
       "      <td>79.248000</td>\n",
       "      <td>0.0</td>\n",
       "      <td>94.488000</td>\n",
       "      <td>57.912000</td>\n",
       "      <td>0.0</td>\n",
       "    </tr>\n",
       "    <tr>\n",
       "      <th>1 days 00:00:00</th>\n",
       "      <td>94.488000</td>\n",
       "      <td>88.392000</td>\n",
       "      <td>0.0</td>\n",
       "      <td>94.488000</td>\n",
       "      <td>79.248000</td>\n",
       "      <td>0.0</td>\n",
       "      <td>94.488000</td>\n",
       "      <td>79.248000</td>\n",
       "      <td>0.0</td>\n",
       "      <td>94.488000</td>\n",
       "      <td>...</td>\n",
       "      <td>0.0</td>\n",
       "      <td>94.488000</td>\n",
       "      <td>88.392000</td>\n",
       "      <td>0.0</td>\n",
       "      <td>94.488000</td>\n",
       "      <td>79.248000</td>\n",
       "      <td>0.0</td>\n",
       "      <td>94.488000</td>\n",
       "      <td>57.912000</td>\n",
       "      <td>0.0</td>\n",
       "    </tr>\n",
       "  </tbody>\n",
       "</table>\n",
       "<p>1442 rows × 66 columns</p>\n",
       "</div>"
      ],
      "text/plain": [
       "id                       1                            2                    \\\n",
       "properties            head   pressure demand       head   pressure demand   \n",
       "0 days 00:00:00  92.319584  86.223584    0.0  76.553746  61.313746    0.0   \n",
       "0 days 00:01:00  92.323882  86.227882    0.0  76.617426  61.377426    0.0   \n",
       "0 days 00:02:00  92.328177  86.232177    0.0  76.680997  61.440997    0.0   \n",
       "0 days 00:03:00  92.332472  86.236472    0.0  76.744424  61.504424    0.0   \n",
       "0 days 00:04:00  92.336764  86.240764    0.0  76.807706  61.567706    0.0   \n",
       "...                    ...        ...    ...        ...        ...    ...   \n",
       "0 days 23:56:00  94.488000  88.392000    0.0  94.488000  79.248000    0.0   \n",
       "0 days 23:57:00  94.488000  88.392000    0.0  94.488000  79.248000    0.0   \n",
       "0 days 23:58:00  94.488000  88.392000    0.0  94.488000  79.248000    0.0   \n",
       "0 days 23:59:00  94.488000  88.392000    0.0  94.488000  79.248000    0.0   \n",
       "1 days 00:00:00  94.488000  88.392000    0.0  94.488000  79.248000    0.0   \n",
       "\n",
       "id                       3                            4  ...     19  \\\n",
       "properties            head   pressure demand       head  ... demand   \n",
       "0 days 00:00:00  75.329327  60.089327    0.0  74.104908  ...    0.0   \n",
       "0 days 00:01:00  75.396515  60.156515    0.0  74.175604  ...    0.0   \n",
       "0 days 00:02:00  75.463652  60.223652    0.0  74.246306  ...    0.0   \n",
       "0 days 00:03:00  75.530643  60.290643    0.0  74.316863  ...    0.0   \n",
       "0 days 00:04:00  75.597490  60.357490    0.0  74.387274  ...    0.0   \n",
       "...                    ...        ...    ...        ...  ...    ...   \n",
       "0 days 23:56:00  94.488000  79.248000    0.0  94.488000  ...    0.0   \n",
       "0 days 23:57:00  94.488000  79.248000    0.0  94.488000  ...    0.0   \n",
       "0 days 23:58:00  94.488000  79.248000    0.0  94.488000  ...    0.0   \n",
       "0 days 23:59:00  94.488000  79.248000    0.0  94.488000  ...    0.0   \n",
       "1 days 00:00:00  94.488000  79.248000    0.0  94.488000  ...    0.0   \n",
       "\n",
       "id                      20                           21                    \\\n",
       "properties            head   pressure demand       head   pressure demand   \n",
       "0 days 00:00:00  92.328836  86.232836    0.0  69.589186  54.349186    0.0   \n",
       "0 days 00:01:00  92.333100  86.237100    0.0  69.685687  54.445687    0.0   \n",
       "0 days 00:02:00  92.337362  86.241362    0.0  69.781900  54.541900    0.0   \n",
       "0 days 00:03:00  92.341623  86.245623    0.0  69.877825  54.637825    0.0   \n",
       "0 days 00:04:00  92.345881  86.249881    0.0  69.973464  54.733464    0.0   \n",
       "...                    ...        ...    ...        ...        ...    ...   \n",
       "0 days 23:56:00  94.488000  88.392000    0.0  94.488000  79.248000    0.0   \n",
       "0 days 23:57:00  94.488000  88.392000    0.0  94.488000  79.248000    0.0   \n",
       "0 days 23:58:00  94.488000  88.392000    0.0  94.488000  79.248000    0.0   \n",
       "0 days 23:59:00  94.488000  88.392000    0.0  94.488000  79.248000    0.0   \n",
       "1 days 00:00:00  94.488000  88.392000    0.0  94.488000  79.248000    0.0   \n",
       "\n",
       "id                      22                    \n",
       "properties            head   pressure demand  \n",
       "0 days 00:00:00  69.588032  33.012032    0.0  \n",
       "0 days 00:01:00  69.663723  33.087723    0.0  \n",
       "0 days 00:02:00  69.739364  33.163364    0.0  \n",
       "0 days 00:03:00  69.814952  33.238952    0.0  \n",
       "0 days 00:04:00  69.890487  33.314487    0.0  \n",
       "...                    ...        ...    ...  \n",
       "0 days 23:56:00  94.488000  57.912000    0.0  \n",
       "0 days 23:57:00  94.488000  57.912000    0.0  \n",
       "0 days 23:58:00  94.488000  57.912000    0.0  \n",
       "0 days 23:59:00  94.488000  57.912000    0.0  \n",
       "1 days 00:00:00  94.488000  57.912000    0.0  \n",
       "\n",
       "[1442 rows x 66 columns]"
      ]
     },
     "execution_count": 26,
     "metadata": {},
     "output_type": "execute_result"
    }
   ],
   "source": [
    "df"
   ]
  },
  {
   "cell_type": "code",
   "execution_count": 26,
   "id": "naval-chinese",
   "metadata": {
    "pycharm": {
     "is_executing": false
    }
   },
   "outputs": [],
   "source": []
  }
 ],
 "metadata": {
  "kernelspec": {
   "display_name": "Python 3",
   "language": "python",
   "name": "python3"
  },
  "language_info": {
   "codemirror_mode": {
    "name": "ipython",
    "version": 3
   },
   "file_extension": ".py",
   "mimetype": "text/x-python",
   "name": "python",
   "nbconvert_exporter": "python",
   "pygments_lexer": "ipython3",
   "version": "3.7.10"
  }
 },
 "nbformat": 4,
 "nbformat_minor": 5
}
